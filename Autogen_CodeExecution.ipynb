{
 "cells": [
  {
   "cell_type": "markdown",
   "id": "39218ec8-2e21-41c8-a6d9-0ad1bb6edd5e",
   "metadata": {},
   "source": [
    "# _Autogen Agents Demo for code execution_"
   ]
  },
  {
   "cell_type": "markdown",
   "id": "ef208a5c-c8e0-42fe-bc4e-2c963e304da6",
   "metadata": {},
   "source": [
    "<div class=\"alert alert-block alert-info\">\n",
    " In this demo, we would like to show how can we use different type of agents to performs different tasks. In this example, we will ask our agents to jointly work to create a report.\n",
    "</div>\n",
    "\n",
    "### Let's dive in!"
   ]
  },
  {
   "cell_type": "markdown",
   "id": "78429d9d-06a3-4058-9a1d-63ddd1ddc6da",
   "metadata": {},
   "source": [
    "__First, let's declare all the necessary imports.__"
   ]
  },
  {
   "cell_type": "code",
   "execution_count": 35,
   "id": "65588950-af75-425c-9457-09e349c7aec3",
   "metadata": {},
   "outputs": [
    {
     "data": {
      "text/plain": [
       "True"
      ]
     },
     "execution_count": 35,
     "metadata": {},
     "output_type": "execute_result"
    }
   ],
   "source": [
    "import os, pprint, datetime\n",
    "from dotenv import load_dotenv\n",
    "from autogen import ConversableAgent, AssistantAgent\n",
    "from autogen.coding import LocalCommandLineCodeExecutor\n",
    "from IPython.display import Image\n",
    "\n",
    "load_dotenv()"
   ]
  },
  {
   "cell_type": "markdown",
   "id": "7a07b525-654d-43b9-bfc5-7e07f2c7215c",
   "metadata": {},
   "source": [
    "__Here, we are configuring our llm(Large language model) to be used by our agents__"
   ]
  },
  {
   "cell_type": "code",
   "execution_count": 36,
   "id": "a6d512ae-f97b-4882-b77f-1c8b4a65c2cf",
   "metadata": {},
   "outputs": [],
   "source": [
    "GROQ_API_KEY = os.getenv(\"GROQ_API_KEY\")\n",
    "\n",
    "llm_config = {\n",
    "    \"config_list\": [\n",
    "        {\n",
    "            \"model\": \"llama3-70b-8192\",\n",
    "            \"base_url\": \"https://api.groq.com/openai/v1\",\n",
    "            \"api_key\": GROQ_API_KEY,\n",
    "            \"api_type\": \"groq\"\n",
    "        }\n",
    "    ],\n",
    "}"
   ]
  },
  {
   "cell_type": "markdown",
   "id": "a080d20b-900b-4860-bc9d-17fb0c845ae6",
   "metadata": {},
   "source": [
    "__Defining our code executor__"
   ]
  },
  {
   "cell_type": "code",
   "execution_count": 37,
   "id": "623dcaea-d375-4fa9-9a71-5d622e9980c0",
   "metadata": {},
   "outputs": [],
   "source": [
    "executor = LocalCommandLineCodeExecutor(\n",
    "    timeout=60,\n",
    "    work_dir=\"result\",\n",
    ")"
   ]
  },
  {
   "cell_type": "markdown",
   "id": "6ffc71f0-03a3-4d3f-923b-3e0597ab6cb0",
   "metadata": {},
   "source": [
    "__Now let's create some agents who will act as a news anchor and also chat with each other__"
   ]
  },
  {
   "cell_type": "code",
   "execution_count": 38,
   "id": "f54ae65c-32e4-4e3d-8aa1-3f1fb5b9a146",
   "metadata": {},
   "outputs": [],
   "source": [
    "code_executor_agent = ConversableAgent(\n",
    "    name=\"code_executor_agent\",\n",
    "    llm_config=False,\n",
    "    code_execution_config={\"executor\": executor},\n",
    "    human_input_mode=\"ALWAYS\",\n",
    "    default_auto_reply=\n",
    "    \"Please continue. If everything is done, reply 'TERMINATE'.\",\n",
    ")\n",
    "\n",
    "code_writer_agent = AssistantAgent(\n",
    "    name=\"code_writer_agent\",\n",
    "    llm_config=llm_config,\n",
    "    code_execution_config=False,\n",
    "    human_input_mode=\"NEVER\",\n",
    ")"
   ]
  },
  {
   "cell_type": "markdown",
   "id": "304ba55d-a95c-4407-90d5-a733d18d21a8",
   "metadata": {},
   "source": [
    "__Defining the task__"
   ]
  },
  {
   "cell_type": "code",
   "execution_count": 39,
   "id": "6a3b90fe-9bef-4784-b8c4-27a1df1a3961",
   "metadata": {},
   "outputs": [],
   "source": [
    "today = datetime.datetime.now().date()\n",
    "\n",
    "message = f\"Today is {today}. \"\\\n",
    "\"Create a bar-chart showing the popularity of programming languages in the last five years for PYTHON AND JAVASCRIPT. \"\\\n",
    "\"Make sure the code is in markdown code block and save the figure\"\\\n",
    "\" to a file report.png.\"\"\""
   ]
  },
  {
   "cell_type": "markdown",
   "id": "56dddff8-81d7-4081-a52c-d8a9e00b0b28",
   "metadata": {},
   "source": [
    "__Now, let's start the chat to execute the code__"
   ]
  },
  {
   "cell_type": "code",
   "execution_count": 40,
   "id": "54eb824c-293a-49e0-9bf2-34671b40b3da",
   "metadata": {},
   "outputs": [
    {
     "name": "stdout",
     "output_type": "stream",
     "text": [
      "\u001b[33mcode_executor_agent\u001b[0m (to code_writer_agent):\n",
      "\n",
      "Today is 2024-07-31. Create a bar-chart showing the popularity of programming languages in the last five years for PYTHON AND JAVASCRIPT. Make sure the code is in markdown code block and save the figure to a file report.png.\n",
      "\n",
      "--------------------------------------------------------------------------------\n",
      "\u001b[33mcode_writer_agent\u001b[0m (to code_executor_agent):\n",
      "\n",
      "To create a bar-chart showing the popularity of programming languages in the last five years for PYTHON and JAVASCRIPT, we need to collect data on their popularity trends. We can use the Google Trends API to fetch the data.\n",
      "\n",
      "Here's the plan:\n",
      "\n",
      "**Step 1: Collect data using Google Trends API**\n",
      "\n",
      "First, let's install the necessary libraries:\n",
      "```python\n",
      "# filename: google_trends_api.py\n",
      "import os\n",
      "import pandas as pd\n",
      "from pytrends.request import TrendReq\n",
      "\n",
      "# Create a TrendReq object\n",
      "trends = TrendReq(hl='en-US', tz=360)\n",
      "\n",
      "# Fetch data for Python and JavaScript for the last 5 years\n",
      "kw_list = ['Python', 'JavaScript']\n",
      "trends.build_payload(kw_list, timeframe='today 5-y')\n",
      "\n",
      "# Get the interest over time data\n",
      "data = trends.interest_over_time()\n",
      "\n",
      "# Save the data to a CSV file\n",
      "data.to_csv('popularity_data.csv')\n",
      "```\n",
      "Please execute the above code and save the output to a file named `google_trends_api.py`.\n",
      "\n",
      "**Step 2: Create a bar-chart using the collected data**\n",
      "\n",
      "Once we have the data, we can create a bar-chart using matplotlib:\n",
      "```python\n",
      "# filename: create_bar_chart.py\n",
      "import matplotlib.pyplot as plt\n",
      "import pandas as pd\n",
      "\n",
      "# Load the data from the CSV file\n",
      "data = pd.read_csv('popularity_data.csv')\n",
      "\n",
      "# Plot a bar-chart for Python and JavaScript\n",
      "plt.figure(figsize=(10, 6))\n",
      "plt.bar(data.index, data['Python'], label='Python')\n",
      "plt.bar(data.index, data['JavaScript'], label='JavaScript')\n",
      "plt.xlabel('Year')\n",
      "plt.ylabel('Popularity Index')\n",
      "plt.title('Popularity of Python and JavaScript over the last 5 years')\n",
      "plt.legend()\n",
      "plt.savefig('report.png')\n",
      "```\n",
      "Please execute the above code and save the output to a file named `create_bar_chart.py`.\n",
      "\n",
      "Once you execute both codes, a `report.png` file will be generated, which shows a bar-chart of the popularity of Python and JavaScript over the last 5 years.\n",
      "\n",
      "TERMINATE\n",
      "\n",
      "--------------------------------------------------------------------------------\n"
     ]
    },
    {
     "name": "stdin",
     "output_type": "stream",
     "text": [
      "Provide feedback to code_writer_agent. Press enter to skip and use auto-reply, or type 'exit' to end the conversation:  \n"
     ]
    },
    {
     "name": "stdout",
     "output_type": "stream",
     "text": [
      "\u001b[31m\n",
      ">>>>>>>> NO HUMAN INPUT RECEIVED.\u001b[0m\n",
      "\u001b[31m\n",
      ">>>>>>>> USING AUTO REPLY...\u001b[0m\n",
      "\u001b[31m\n",
      ">>>>>>>> EXECUTING 2 CODE BLOCKS (inferred languages are [python, python])...\u001b[0m\n",
      "\u001b[33mcode_executor_agent\u001b[0m (to code_writer_agent):\n",
      "\n",
      "exitcode: 1 (execution failed)\n",
      "Code output: Traceback (most recent call last):\n",
      "  File \"/Users/maslam033/Documents/learning/python/autogen/result/google_trends_api.py\", line 4, in <module>\n",
      "    from pytrends.request import TrendReq\n",
      "ModuleNotFoundError: No module named 'pytrends'\n",
      "\n",
      "\n",
      "--------------------------------------------------------------------------------\n",
      "\u001b[33mcode_writer_agent\u001b[0m (to code_executor_agent):\n",
      "\n",
      "The error message indicates that the `pytrends` module is not installed. We need to install it before running the code.\n",
      "\n",
      "Here's the updated code with the installation step:\n",
      "```python\n",
      "# filename: google_trends_api.py\n",
      "import os\n",
      "import pandas as pd\n",
      "import pip\n",
      "\n",
      "# Install the required libraries if not already installed\n",
      "pip_packages = ['pytrends']\n",
      "for package in pip_packages:\n",
      "    if not os.popen(f'pip show {package}').read():\n",
      "        os.system(f'pip install {package}')\n",
      "\n",
      "from pytrends.request import TrendReq\n",
      "\n",
      "# Create a TrendReq object\n",
      "trends = TrendReq(hl='en-US', tz=360)\n",
      "\n",
      "# Fetch data for Python and JavaScript for the last 5 years\n",
      "kw_list = ['Python', 'JavaScript']\n",
      "trends.build_payload(kw_list, timeframe='today 5-y')\n",
      "\n",
      "# Get the interest over time data\n",
      "data = trends.interest_over_time()\n",
      "\n",
      "# Save the data to a CSV file\n",
      "data.to_csv('popularity_data.csv')\n",
      "```\n",
      "Please re-execute the above code. It will install the required libraries and then collect the data.\n",
      "\n",
      "Then, execute the second code block to create the bar-chart:\n",
      "```python\n",
      "# filename: create_bar_chart.py\n",
      "import matplotlib.pyplot as plt\n",
      "import pandas as pd\n",
      "\n",
      "# Load the data from the CSV file\n",
      "data = pd.read_csv('popularity_data.csv')\n",
      "\n",
      "# Plot a bar-chart for Python and JavaScript\n",
      "plt.figure(figsize=(10, 6))\n",
      "plt.bar(data.index, data['Python'], label='Python')\n",
      "plt.bar(data.index, data['JavaScript'], label='JavaScript')\n",
      "plt.xlabel('Year')\n",
      "plt.ylabel('Popularity Index')\n",
      "plt.title('Popularity of Python and JavaScript over the last 5 years')\n",
      "plt.legend()\n",
      "plt.savefig('report.png')\n",
      "```\n",
      "TERMINATE\n",
      "\n",
      "--------------------------------------------------------------------------------\n"
     ]
    },
    {
     "name": "stdin",
     "output_type": "stream",
     "text": [
      "Provide feedback to code_writer_agent. Press enter to skip and use auto-reply, or type 'exit' to end the conversation:  \n"
     ]
    },
    {
     "name": "stdout",
     "output_type": "stream",
     "text": [
      "\u001b[31m\n",
      ">>>>>>>> NO HUMAN INPUT RECEIVED.\u001b[0m\n",
      "\u001b[31m\n",
      ">>>>>>>> USING AUTO REPLY...\u001b[0m\n",
      "\u001b[31m\n",
      ">>>>>>>> EXECUTING 2 CODE BLOCKS (inferred languages are [python, python])...\u001b[0m\n",
      "\u001b[33mcode_executor_agent\u001b[0m (to code_writer_agent):\n",
      "\n",
      "exitcode: 1 (execution failed)\n",
      "Code output: \u001b[33mWARNING: Package(s) not found: pytrends\u001b[0m\u001b[33m\n",
      "\u001b[0m\n",
      "\u001b[1m[\u001b[0m\u001b[34;49mnotice\u001b[0m\u001b[1;39;49m]\u001b[0m\u001b[39;49m A new release of pip is available: \u001b[0m\u001b[31;49m24.0\u001b[0m\u001b[39;49m -> \u001b[0m\u001b[32;49m24.2\u001b[0m\n",
      "\u001b[1m[\u001b[0m\u001b[34;49mnotice\u001b[0m\u001b[1;39;49m]\u001b[0m\u001b[39;49m To update, run: \u001b[0m\u001b[32;49mpip install --upgrade pip\u001b[0m\n",
      "Traceback (most recent call last):\n",
      "  File \"/Users/maslam033/Documents/learning/python/autogen/result/google_trends_api.py\", line 22, in <module>\n",
      "    data = trends.interest_over_time()\n",
      "           ^^^^^^^^^^^^^^^^^^^^^^^^^^^\n",
      "  File \"/Users/maslam033/Documents/learning/python/autogen/o_venv/lib/python3.12/site-packages/pytrends/request.py\", line 232, in interest_over_time\n",
      "    req_json = self._get_data(\n",
      "               ^^^^^^^^^^^^^^^\n",
      "  File \"/Users/maslam033/Documents/learning/python/autogen/o_venv/lib/python3.12/site-packages/pytrends/request.py\", line 159, in _get_data\n",
      "    raise exceptions.TooManyRequestsError.from_response(response)\n",
      "pytrends.exceptions.TooManyRequestsError: The request failed: Google returned a response with code 429\n",
      "Collecting pytrends\n",
      "  Downloading pytrends-4.9.2-py3-none-any.whl.metadata (13 kB)\n",
      "Requirement already satisfied: requests>=2.0 in /Users/maslam033/Documents/learning/python/autogen/o_venv/lib/python3.12/site-packages (from pytrends) (2.32.3)\n",
      "Requirement already satisfied: pandas>=0.25 in /Users/maslam033/Documents/learning/python/autogen/o_venv/lib/python3.12/site-packages (from pytrends) (2.2.2)\n",
      "Requirement already satisfied: lxml in /Users/maslam033/Documents/learning/python/autogen/o_venv/lib/python3.12/site-packages (from pytrends) (5.2.2)\n",
      "Requirement already satisfied: numpy>=1.26.0 in /Users/maslam033/Documents/learning/python/autogen/o_venv/lib/python3.12/site-packages (from pandas>=0.25->pytrends) (1.26.4)\n",
      "Requirement already satisfied: python-dateutil>=2.8.2 in /Users/maslam033/Documents/learning/python/autogen/o_venv/lib/python3.12/site-packages (from pandas>=0.25->pytrends) (2.9.0.post0)\n",
      "Requirement already satisfied: pytz>=2020.1 in /Users/maslam033/Documents/learning/python/autogen/o_venv/lib/python3.12/site-packages (from pandas>=0.25->pytrends) (2024.1)\n",
      "Requirement already satisfied: tzdata>=2022.7 in /Users/maslam033/Documents/learning/python/autogen/o_venv/lib/python3.12/site-packages (from pandas>=0.25->pytrends) (2024.1)\n",
      "Requirement already satisfied: charset-normalizer<4,>=2 in /Users/maslam033/Documents/learning/python/autogen/o_venv/lib/python3.12/site-packages (from requests>=2.0->pytrends) (3.3.2)\n",
      "Requirement already satisfied: idna<4,>=2.5 in /Users/maslam033/Documents/learning/python/autogen/o_venv/lib/python3.12/site-packages (from requests>=2.0->pytrends) (3.7)\n",
      "Requirement already satisfied: urllib3<3,>=1.21.1 in /Users/maslam033/Documents/learning/python/autogen/o_venv/lib/python3.12/site-packages (from requests>=2.0->pytrends) (2.2.2)\n",
      "Requirement already satisfied: certifi>=2017.4.17 in /Users/maslam033/Documents/learning/python/autogen/o_venv/lib/python3.12/site-packages (from requests>=2.0->pytrends) (2024.7.4)\n",
      "Requirement already satisfied: six>=1.5 in /Users/maslam033/Documents/learning/python/autogen/o_venv/lib/python3.12/site-packages (from python-dateutil>=2.8.2->pandas>=0.25->pytrends) (1.16.0)\n",
      "Downloading pytrends-4.9.2-py3-none-any.whl (15 kB)\n",
      "Installing collected packages: pytrends\n",
      "Successfully installed pytrends-4.9.2\n",
      "\n",
      "\n",
      "--------------------------------------------------------------------------------\n",
      "\u001b[33mcode_writer_agent\u001b[0m (to code_executor_agent):\n",
      "\n",
      "The error message indicates that Google returned a response with code 429, which means \"Too Many Requests\". This is likely because the Google Trends API has a rate limit on the number of requests it can handle.\n",
      "\n",
      "To avoid this, we can add a retry mechanism to handle the rate limiting. Here's the updated code:\n",
      "```python\n",
      "# filename: google_trends_api.py\n",
      "import os\n",
      "import pandas as pd\n",
      "import pip\n",
      "import time\n",
      "from pytrends.request import TrendReq\n",
      "from pytrends.exceptions import ResponseError\n",
      "\n",
      "# Install the required libraries if not already installed\n",
      "pip_packages = ['pytrends']\n",
      "for package in pip_packages:\n",
      "    if not os.popen(f'pip show {package}').read():\n",
      "        os.system(f'pip install {package}')\n",
      "\n",
      "from pytrends.request import TrendReq\n",
      "\n",
      "# Create a TrendReq object\n",
      "trends = TrendReq(hl='en-US', tz=360)\n",
      "\n",
      "# Fetch data for Python and JavaScript for the last 5 years\n",
      "kw_list = ['Python', 'JavaScript']\n",
      "trends.build_payload(kw_list, timeframe='today 5-y')\n",
      "\n",
      "# Retry mechanism to handle rate limiting\n",
      "max_retries = 5\n",
      "retry_delay = 10  # seconds\n",
      "for retry in range(max_retries):\n",
      "    try:\n",
      "        data = trends.interest_over_time()\n",
      "        break\n",
      "    except ResponseError as e:\n",
      "        if e.response.status_code == 429:\n",
      "            print(f\"Rate limit exceeded. Retrying in {retry_delay} seconds...\")\n",
      "            time.sleep(retry_delay)\n",
      "        else:\n",
      "            raise\n",
      "\n",
      "# Save the data to a CSV file\n",
      "data.to_csv('popularity_data.csv')\n",
      "```\n",
      "Please re-execute the above code. It will retry the request up to 5 times with a delay of 10 seconds between retries.\n",
      "\n",
      "Then, execute the second code block to create the bar-chart:\n",
      "```python\n",
      "# filename: create_bar_chart.py\n",
      "import matplotlib.pyplot as plt\n",
      "import pandas as pd\n",
      "\n",
      "# Load the data from the CSV file\n",
      "data = pd.read_csv('popularity_data.csv')\n",
      "\n",
      "# Plot a bar-chart for Python and JavaScript\n",
      "plt.figure(figsize=(10, 6))\n",
      "plt.bar(data.index, data['Python'], label='Python')\n",
      "plt.bar(data.index, data['JavaScript'], label='JavaScript')\n",
      "plt.xlabel('Year')\n",
      "plt.ylabel('Popularity Index')\n",
      "plt.title('Popularity of Python and JavaScript over the last 5 years')\n",
      "plt.legend()\n",
      "plt.savefig('report.png')\n",
      "```\n",
      "TERMINATE\n",
      "\n",
      "--------------------------------------------------------------------------------\n"
     ]
    },
    {
     "name": "stdin",
     "output_type": "stream",
     "text": [
      "Provide feedback to code_writer_agent. Press enter to skip and use auto-reply, or type 'exit' to end the conversation:  \n"
     ]
    },
    {
     "name": "stdout",
     "output_type": "stream",
     "text": [
      "\u001b[31m\n",
      ">>>>>>>> NO HUMAN INPUT RECEIVED.\u001b[0m\n",
      "\u001b[31m\n",
      ">>>>>>>> USING AUTO REPLY...\u001b[0m\n",
      "\u001b[31m\n",
      ">>>>>>>> EXECUTING 2 CODE BLOCKS (inferred languages are [python, python])...\u001b[0m\n",
      "\u001b[33mcode_executor_agent\u001b[0m (to code_writer_agent):\n",
      "\n",
      "exitcode: 0 (execution succeeded)\n",
      "Code output: /Users/maslam033/Documents/learning/python/autogen/o_venv/lib/python3.12/site-packages/pytrends/request.py:260: FutureWarning: Downcasting object dtype arrays on .fillna, .ffill, .bfill is deprecated and will change in a future version. Call result.infer_objects(copy=False) instead. To opt-in to the future behavior, set `pd.set_option('future.no_silent_downcasting', True)`\n",
      "  df = df.fillna(False)\n",
      "Rate limit exceeded. Retrying in 10 seconds...\n",
      "Rate limit exceeded. Retrying in 10 seconds...\n",
      "\n",
      "\n",
      "--------------------------------------------------------------------------------\n",
      "\u001b[33mcode_writer_agent\u001b[0m (to code_executor_agent):\n",
      "\n",
      "It seems like the code executed successfully, but there are a few warnings and errors that need to be addressed.\n",
      "\n",
      "The `FutureWarning` is a warning that a certain behavior will change in a future version of pandas. This warning can be ignored for now, but it's a good idea to update the code to use the recommended approach when the time comes.\n",
      "\n",
      "The \"Rate limit exceeded\" messages indicate that the Google Trends API rate limit was exceeded. This is why the retry mechanism was triggered. It's possible that the API limit was exceeded due to the frequency of requests.\n",
      "\n",
      "Let's proceed with creating the bar-chart using the collected data:\n",
      "```python\n",
      "# filename: create_bar_chart.py\n",
      "import matplotlib.pyplot as plt\n",
      "import pandas as pd\n",
      "\n",
      "# Load the data from the CSV file\n",
      "data = pd.read_csv('popularity_data.csv')\n",
      "\n",
      "# Plot a bar-chart for Python and JavaScript\n",
      "plt.figure(figsize=(10, 6))\n",
      "plt.bar(data.index, data['Python'], label='Python')\n",
      "plt.bar(data.index, data['JavaScript'], label='JavaScript')\n",
      "plt.xlabel('Year')\n",
      "plt.ylabel('Popularity Index')\n",
      "plt.title('Popularity of Python and JavaScript over the last 5 years')\n",
      "plt.legend()\n",
      "plt.savefig('report.png')\n",
      "```\n",
      "This code should create a bar-chart showing the popularity of Python and JavaScript over the last 5 years. The chart will be saved as `report.png`.\n",
      "\n",
      "--------------------------------------------------------------------------------\n"
     ]
    },
    {
     "name": "stdin",
     "output_type": "stream",
     "text": [
      "Provide feedback to code_writer_agent. Press enter to skip and use auto-reply, or type 'exit' to end the conversation:  exit\n"
     ]
    }
   ],
   "source": [
    "chat_result = code_executor_agent.initiate_chat(\n",
    "    code_writer_agent,\n",
    "    message=message,\n",
    ")"
   ]
  },
  {
   "cell_type": "markdown",
   "id": "b0607990-8921-45ac-a629-96e277ab3c16",
   "metadata": {},
   "source": [
    "__Let's see the generated report__"
   ]
  },
  {
   "cell_type": "code",
   "execution_count": 41,
   "id": "426891c7-8367-4c69-8f83-23613fe3000d",
   "metadata": {},
   "outputs": [
    {
     "data": {
      "image/png": "[encoded data removed]",
      "text/plain": [
       "<IPython.core.display.Image object>"
      ]
     },
     "execution_count": 41,
     "metadata": {},
     "output_type": "execute_result"
    }
   ],
   "source": [
    "Image(os.path.join(\"result\", \"report.png\"))"
   ]
  },
  {
   "cell_type": "code",
   "execution_count": null,
   "id": "63a3f544-b742-4b65-9040-3634c0b633d3",
   "metadata": {},
   "outputs": [],
   "source": []
  }
 ],
 "metadata": {
  "kernelspec": {
   "display_name": "Python 3 (ipykernel)",
   "language": "python",
   "name": "python3"
  },
  "language_info": {
   "codemirror_mode": {
    "name": "ipython",
    "version": 3
   },
   "file_extension": ".py",
   "mimetype": "text/x-python",
   "name": "python",
   "nbconvert_exporter": "python",
   "pygments_lexer": "ipython3",
   "version": "3.12.4"
  }
 },
 "nbformat": 4,
 "nbformat_minor": 5
}

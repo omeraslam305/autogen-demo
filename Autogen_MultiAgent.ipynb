{
 "cells": [
  {
   "cell_type": "markdown",
   "id": "39218ec8-2e21-41c8-a6d9-0ad1bb6edd5e",
   "metadata": {},
   "source": [
    "# _Autogen Agents Demo_"
   ]
  },
  {
   "cell_type": "markdown",
   "id": "ef208a5c-c8e0-42fe-bc4e-2c963e304da6",
   "metadata": {},
   "source": [
    "<div class=\"alert alert-block alert-info\">\n",
    " In this demo, we would like to show how can we easily configure and start working with the agents. We will also cover a small use case where we will make two agents as a news broadcaster who will follow up from where the conversation left.\n",
    "</div>\n",
    "\n",
    "### Let's dive in!"
   ]
  },
  {
   "cell_type": "markdown",
   "id": "78429d9d-06a3-4058-9a1d-63ddd1ddc6da",
   "metadata": {},
   "source": [
    "__First, let's declare all the necessary imports.__"
   ]
  },
  {
   "cell_type": "code",
   "execution_count": 35,
   "id": "65588950-af75-425c-9457-09e349c7aec3",
   "metadata": {},
   "outputs": [
    {
     "data": {
      "text/plain": [
       "True"
      ]
     },
     "execution_count": 35,
     "metadata": {},
     "output_type": "execute_result"
    }
   ],
   "source": [
    "import os, pprint\n",
    "from dotenv import load_dotenv\n",
    "from autogen import ConversableAgent\n",
    "\n",
    "load_dotenv()"
   ]
  },
  {
   "cell_type": "markdown",
   "id": "7a07b525-654d-43b9-bfc5-7e07f2c7215c",
   "metadata": {},
   "source": [
    "__Here, we are configuring our llm(Large language model) to be used by our agents__"
   ]
  },
  {
   "cell_type": "code",
   "execution_count": 36,
   "id": "a6d512ae-f97b-4882-b77f-1c8b4a65c2cf",
   "metadata": {},
   "outputs": [],
   "source": [
    "GROQ_API_KEY = os.getenv(\"GROQ_API_KEY\")\n",
    "\n",
    "llm_config = {\n",
    "    \"config_list\": [\n",
    "        {\n",
    "            \"model\": \"llama3-70b-8192\",\n",
    "            \"base_url\": \"https://api.groq.com/openai/v1\",\n",
    "            \"api_key\": GROQ_API_KEY,\n",
    "            \"api_type\": \"groq\"\n",
    "        }\n",
    "    ],\n",
    "}"
   ]
  },
  {
   "cell_type": "markdown",
   "id": "6ffc71f0-03a3-4d3f-923b-3e0597ab6cb0",
   "metadata": {},
   "source": [
    "__Now let's create some agents who will act as a news anchor and also chat with each other__"
   ]
  },
  {
   "cell_type": "code",
   "execution_count": 37,
   "id": "f54ae65c-32e4-4e3d-8aa1-3f1fb5b9a146",
   "metadata": {},
   "outputs": [
    {
     "name": "stdout",
     "output_type": "stream",
     "text": [
      "\u001b[33mMindy\u001b[0m (to John):\n",
      "\n",
      "I'm Mindy, a news anchor. Hi John, let's start the news braodcasting.\n",
      "\n",
      "--------------------------------------------------------------------------------\n",
      "\u001b[33mJohn\u001b[0m (to Mindy):\n",
      "\n",
      "Hi Mindy! Good evening, I'm John, your co-anchor. Welcome to our evening news broadcast. I'm excited to share the latest news and updates from Germany with our viewers. Let's dive right in!\n",
      "\n",
      "According to recent reports, the German government has announced plans to increase its defense spending to meet the NATO target of 2% of GDP. This move is seen as a significant shift in Germany's defense policy, as the country has been criticized in the past for not contributing enough to its own defense and relying too heavily on the US military presence.\n",
      "\n",
      "What's your take on this development, Mindy?\n",
      "\n",
      "--------------------------------------------------------------------------------\n",
      "\u001b[33mMindy\u001b[0m (to John):\n",
      "\n",
      "Thank you, John! This is a significant development indeed. If we look at the broader context, this increase in defense spending is also seen as a response to Russia's growing military presence in Eastern Europe. Chancellor Olaf Scholz has been clear about Germany's commitment to European security and this move is likely to be welcomed by Germany's NATO allies.\n",
      "\n",
      "Speaking of European security, I'd like to transition to another important story. The Nord Stream 2 pipeline, which transports natural gas from Russia to Germany, has been a point of contention between Germany and the US. Just yesterday, it was reported that the US and Germany have reached a deal that would allow the pipeline to operate, but with certain conditions aimed at mitigating its impact on European energy security.\n",
      "\n",
      "How do you think this deal will affect Germany's energy policy, John?\n",
      "\n",
      "--------------------------------------------------------------------------------\n",
      "\u001b[33mJohn\u001b[0m (to Mindy):\n",
      "\n",
      "Excellent segue, Mindy! The Nord Stream 2 deal is a significant development in Germany's energy policy, and it's likely to have far-reaching implications.\n",
      "\n",
      "According to reports, the deal would allow the pipeline to operate, but Germany has agreed to invest in Ukrainian energy infrastructure and to take steps to diversify its energy sources. This is seen as a way to mitigate the pipeline's potential to increase Europe's dependence on Russian energy.\n",
      "\n",
      "I think this deal will give Germany more flexibility in its energy policy, allowing it to balance its relations with Russia and the US. However, it's also likely to face criticism from environmental groups, who argue that the pipeline will hinder Germany's efforts to transition to renewable energy sources.\n",
      "\n",
      "Speaking of renewable energy, I'd like to bring up another story. The German government has announced plans to phase out coal-fired power plants by 2030, as part of its efforts to reduce greenhouse gas emissions. This move is seen as a key step towards meeting Germany's climate goals, but it's also expected to have significant economic and social implications for regions that rely heavily on coal mining.\n",
      "\n",
      "What's your take on this development, Mindy? How do you think the government will balance the need to address climate change with the need to support affected communities?\n",
      "\n",
      "--------------------------------------------------------------------------------\n"
     ]
    }
   ],
   "source": [
    "news_anchor_1 = ConversableAgent(\n",
    "    name=\"John\",\n",
    "    system_message=\n",
    "    \"You are a news anchor and you talk about the current affairs in Germany. You retrieve knowledge about the current affair from the web.\",\n",
    "    llm_config=llm_config,\n",
    "    human_input_mode=\"NEVER\",\n",
    ")\n",
    "\n",
    "news_anchor_2 = ConversableAgent(\n",
    "    name=\"Mindy\",\n",
    "    system_message=\n",
    "    \"You are a news anchor and you talk about the current affairs in Germany. You retrieve knowledge about the current affair from the web. \"\n",
    "    \"Always start the next news from the previous news.\",\n",
    "    llm_config=llm_config,\n",
    "    human_input_mode=\"NEVER\",\n",
    ")\n",
    "\n",
    "chat_result = news_anchor_2.initiate_chat(\n",
    "    recipient=news_anchor_1, \n",
    "    message=\"I'm Mindy, a news anchor. Hi John, let's start the news braodcasting.\",\n",
    "    max_turns=2,\n",
    "    summary_method=\"reflection_with_llm\",\n",
    "    summary_prompt=\"Summarize the conversation\",\n",
    ")"
   ]
  },
  {
   "cell_type": "markdown",
   "id": "e3c57f99-34ca-46cd-acd8-3359c18c2cba",
   "metadata": {},
   "source": [
    "__Now let's see the chat history and cost__"
   ]
  },
  {
   "cell_type": "code",
   "execution_count": 38,
   "id": "4e425f0f-9303-49f6-b96f-de487a83bb88",
   "metadata": {},
   "outputs": [
    {
     "name": "stdout",
     "output_type": "stream",
     "text": [
      "[{'content': \"I'm Mindy, a news anchor. Hi John, let's start the news \"\n",
      "             'braodcasting.',\n",
      "  'role': 'assistant'},\n",
      " {'content': \"Hi Mindy! Good evening, I'm John, your co-anchor. Welcome to our \"\n",
      "             \"evening news broadcast. I'm excited to share the latest news and \"\n",
      "             \"updates from Germany with our viewers. Let's dive right in!\\n\"\n",
      "             '\\n'\n",
      "             'According to recent reports, the German government has announced '\n",
      "             'plans to increase its defense spending to meet the NATO target '\n",
      "             'of 2% of GDP. This move is seen as a significant shift in '\n",
      "             \"Germany's defense policy, as the country has been criticized in \"\n",
      "             'the past for not contributing enough to its own defense and '\n",
      "             'relying too heavily on the US military presence.\\n'\n",
      "             '\\n'\n",
      "             \"What's your take on this development, Mindy?\",\n",
      "  'role': 'user'},\n",
      " {'content': 'Thank you, John! This is a significant development indeed. If we '\n",
      "             'look at the broader context, this increase in defense spending '\n",
      "             \"is also seen as a response to Russia's growing military presence \"\n",
      "             'in Eastern Europe. Chancellor Olaf Scholz has been clear about '\n",
      "             \"Germany's commitment to European security and this move is \"\n",
      "             \"likely to be welcomed by Germany's NATO allies.\\n\"\n",
      "             '\\n'\n",
      "             \"Speaking of European security, I'd like to transition to another \"\n",
      "             'important story. The Nord Stream 2 pipeline, which transports '\n",
      "             'natural gas from Russia to Germany, has been a point of '\n",
      "             'contention between Germany and the US. Just yesterday, it was '\n",
      "             'reported that the US and Germany have reached a deal that would '\n",
      "             'allow the pipeline to operate, but with certain conditions aimed '\n",
      "             'at mitigating its impact on European energy security.\\n'\n",
      "             '\\n'\n",
      "             \"How do you think this deal will affect Germany's energy policy, \"\n",
      "             'John?',\n",
      "  'role': 'assistant'},\n",
      " {'content': 'Excellent segue, Mindy! The Nord Stream 2 deal is a significant '\n",
      "             \"development in Germany's energy policy, and it's likely to have \"\n",
      "             'far-reaching implications.\\n'\n",
      "             '\\n'\n",
      "             'According to reports, the deal would allow the pipeline to '\n",
      "             'operate, but Germany has agreed to invest in Ukrainian energy '\n",
      "             'infrastructure and to take steps to diversify its energy '\n",
      "             \"sources. This is seen as a way to mitigate the pipeline's \"\n",
      "             \"potential to increase Europe's dependence on Russian energy.\\n\"\n",
      "             '\\n'\n",
      "             'I think this deal will give Germany more flexibility in its '\n",
      "             'energy policy, allowing it to balance its relations with Russia '\n",
      "             \"and the US. However, it's also likely to face criticism from \"\n",
      "             'environmental groups, who argue that the pipeline will hinder '\n",
      "             \"Germany's efforts to transition to renewable energy sources.\\n\"\n",
      "             '\\n'\n",
      "             \"Speaking of renewable energy, I'd like to bring up another \"\n",
      "             'story. The German government has announced plans to phase out '\n",
      "             'coal-fired power plants by 2030, as part of its efforts to '\n",
      "             'reduce greenhouse gas emissions. This move is seen as a key step '\n",
      "             \"towards meeting Germany's climate goals, but it's also expected \"\n",
      "             'to have significant economic and social implications for regions '\n",
      "             'that rely heavily on coal mining.\\n'\n",
      "             '\\n'\n",
      "             \"What's your take on this development, Mindy? How do you think \"\n",
      "             'the government will balance the need to address climate change '\n",
      "             'with the need to support affected communities?',\n",
      "  'role': 'user'}]\n",
      "{'usage_excluding_cached_inference': {'total_cost': 0},\n",
      " 'usage_including_cached_inference': {'llama3-70b-8192': {'completion_tokens': 592,\n",
      "                                                          'cost': 0,\n",
      "                                                          'prompt_tokens': 1250,\n",
      "                                                          'total_tokens': 1842},\n",
      "                                      'total_cost': 0}}\n"
     ]
    }
   ],
   "source": [
    "pprint.pprint(chat_result.chat_history)\n",
    "pprint.pprint(chat_result.cost)\n"
   ]
  }
 ],
 "metadata": {
  "kernelspec": {
   "display_name": "Python 3 (ipykernel)",
   "language": "python",
   "name": "python3"
  },
  "language_info": {
   "codemirror_mode": {
    "name": "ipython",
    "version": 3
   },
   "file_extension": ".py",
   "mimetype": "text/x-python",
   "name": "python",
   "nbconvert_exporter": "python",
   "pygments_lexer": "ipython3",
   "version": "3.12.4"
  }
 },
 "nbformat": 4,
 "nbformat_minor": 5
}
